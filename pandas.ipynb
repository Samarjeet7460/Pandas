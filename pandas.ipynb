{
 "cells": [
  {
   "cell_type": "markdown",
   "id": "8c7fb524",
   "metadata": {},
   "source": [
    "## Pandas\n"
   ]
  },
  {
   "cell_type": "code",
   "execution_count": null,
   "id": "b0b68009",
   "metadata": {},
   "outputs": [],
   "source": [
    "import pandas as pd"
   ]
  },
  {
   "cell_type": "code",
   "execution_count": null,
   "id": "0c4a74eb",
   "metadata": {},
   "outputs": [],
   "source": [
    "data = {\n",
    "    'Names': ['samar', 'gurinder', 'amit', 'daman', 'maahi'],\n",
    "    'age': [21, 22, 23, 22, 21],\n",
    "    'salary': [50000, 40000, 42000, 30000, 45000]\n",
    "}\n",
    "\n",
    "df = pd.DataFrame(data)"
   ]
  },
  {
   "cell_type": "markdown",
   "id": "d8d27e20",
   "metadata": {},
   "source": [
    "## Adding new column"
   ]
  },
  {
   "cell_type": "code",
   "execution_count": null,
   "id": "389ff27f",
   "metadata": {},
   "outputs": [],
   "source": [
    "df['Bonus'] = df['salary'] * 0.1\n",
    "print(df)"
   ]
  },
  {
   "cell_type": "markdown",
   "id": "2cd61a28",
   "metadata": {},
   "source": [
    "## insert() method"
   ]
  },
  {
   "cell_type": "code",
   "execution_count": null,
   "id": "2540b514",
   "metadata": {},
   "outputs": [],
   "source": [
    "# syntax = insert(loc, col_name, data)\n",
    "df.insert(0,'ID', [i for i in range(101, 106)])\n",
    "print(df)"
   ]
  },
  {
   "cell_type": "markdown",
   "id": "dcdc4caf",
   "metadata": {},
   "source": [
    "## loc[] method"
   ]
  },
  {
   "cell_type": "code",
   "execution_count": null,
   "id": "dd648dc1",
   "metadata": {},
   "outputs": [],
   "source": [
    "df.loc[0,'salary'] = 100000\n",
    "print(df)"
   ]
  },
  {
   "cell_type": "markdown",
   "id": "460e29dc",
   "metadata": {},
   "source": [
    "## increasing salary by 10%"
   ]
  },
  {
   "cell_type": "code",
   "execution_count": null,
   "id": "5a254a68",
   "metadata": {},
   "outputs": [],
   "source": [
    "df['salary'] += df['salary'] * 0.1\n",
    "print(df)"
   ]
  },
  {
   "cell_type": "markdown",
   "id": "3a7276d6",
   "metadata": {},
   "source": [
    "## Delete column using drop() method"
   ]
  },
  {
   "cell_type": "code",
   "execution_count": null,
   "id": "a28b2579",
   "metadata": {},
   "outputs": [],
   "source": [
    "df.drop(columns=['Bonus'], inplace=True)\n",
    "print(df)"
   ]
  },
  {
   "cell_type": "markdown",
   "id": "66b9e482",
   "metadata": {},
   "source": [
    "# Handling Missing values in dataset"
   ]
  },
  {
   "cell_type": "markdown",
   "id": "557dc2b4",
   "metadata": {},
   "source": [
    "checking null values using isnull() method\n"
   ]
  },
  {
   "cell_type": "code",
   "execution_count": null,
   "id": "5e24f566",
   "metadata": {},
   "outputs": [],
   "source": [
    "data1 = {\n",
    "    'Names': ['samar', 'gurinder', 'amit', None, 'maahi'],\n",
    "    'age': [21, 22, 23, None, 21],\n",
    "    'salary': [50000, 40000, 42000, None, 45000],\n",
    "    'Performance_Score': [100, 100, 80, None, 50]\n",
    "}\n",
    "\n",
    "df1 = pd.DataFrame(data1)\n",
    "print(df1)"
   ]
  },
  {
   "cell_type": "code",
   "execution_count": null,
   "id": "8bf5b795",
   "metadata": {},
   "outputs": [],
   "source": [
    "df1.isnull()"
   ]
  },
  {
   "cell_type": "markdown",
   "id": "e963c624",
   "metadata": {},
   "source": [
    "count of missing values in columns"
   ]
  },
  {
   "cell_type": "code",
   "execution_count": null,
   "id": "a4433799",
   "metadata": {},
   "outputs": [],
   "source": [
    "df1.isnull().sum()"
   ]
  },
  {
   "cell_type": "markdown",
   "id": "b8e7a861",
   "metadata": {},
   "source": [
    "Deleting missing values in dataset using dropna() method"
   ]
  },
  {
   "cell_type": "code",
   "execution_count": null,
   "id": "9f30837e",
   "metadata": {},
   "outputs": [],
   "source": [
    "# removing row \n",
    "# df1.dropna(axis=0, inplace=True)\n",
    "\n",
    "# removing column\n",
    "# df1.dropna(subset=['Names'])\n",
    "print(df1)"
   ]
  },
  {
   "cell_type": "markdown",
   "id": "738bc96c",
   "metadata": {},
   "source": [
    "Filling missing values using fillna() method"
   ]
  },
  {
   "cell_type": "code",
   "execution_count": null,
   "id": "56131f7c",
   "metadata": {},
   "outputs": [],
   "source": [
    "## filling missing values with zero\n",
    "# df1.fillna(0, inplace=True)\n",
    "\n",
    "df1.fillna(df1[['age', 'salary', 'Performance_Score']].mean(), inplace=True)\n",
    "print(df1)"
   ]
  },
  {
   "cell_type": "code",
   "execution_count": null,
   "id": "7ab673fc",
   "metadata": {},
   "outputs": [],
   "source": [
    "df1['Names'] = df1['Names'].fillna('Unknown')\n",
    "print(df1)"
   ]
  },
  {
   "cell_type": "markdown",
   "id": "2efe72d4",
   "metadata": {},
   "source": [
    "## Interploation using interpolate() method"
   ]
  },
  {
   "cell_type": "code",
   "execution_count": null,
   "id": "38a9e941",
   "metadata": {},
   "outputs": [],
   "source": [
    "missing_data = {\n",
    "    'roll_no': [101,102,103,104,105],\n",
    "    'marks': [100,None,40,None,50]\n",
    "}\n",
    "\n",
    "md = pd.DataFrame(missing_data)\n",
    "print(f'\\nBefore interpolation \\n{md}')\n",
    "md['marks'] = md['marks'].interpolate(method='linear')\n",
    "print(f'\\nAfter interpolation \\n{md}')"
   ]
  },
  {
   "cell_type": "markdown",
   "id": "37cab1b4",
   "metadata": {},
   "source": [
    "## Sorting data"
   ]
  },
  {
   "cell_type": "code",
   "execution_count": null,
   "id": "0fdf9043",
   "metadata": {},
   "outputs": [],
   "source": [
    "# sorting data using .sort_values() method\n",
    "\n",
    "unsort_data = {\n",
    "    'Names': ['samar', 'gurinder', 'amit', 'daman', 'maahi'],\n",
    "    'age': [21, 23, 22, 24, 23],\n",
    "    'salary': [50000, 40000, 42000, 30000, 45000]\n",
    "}\n",
    "\n",
    "ud = pd.DataFrame(unsort_data)\n",
    "# print(f'Before sorting \\n{ud}')\n",
    "# ud.sort_values(by='age', ascending=True, inplace=True)\n",
    "# print(f'\\nAfter sorting \\n{ud}')\n",
    "\n",
    "# sorting multiple columns\n",
    "\n",
    "ud.sort_values(by=['age','salary'], ascending=[True, False], inplace=True)\n",
    "print(ud)"
   ]
  },
  {
   "cell_type": "markdown",
   "id": "36cf33ae",
   "metadata": {},
   "source": [
    "## Aggregation and groupby() method\n"
   ]
  },
  {
   "cell_type": "code",
   "execution_count": null,
   "id": "3f54f717",
   "metadata": {},
   "outputs": [],
   "source": [
    "data = {\n",
    "    'Names': ['samar', 'gurinder', 'amit', 'daman', 'maahi'],\n",
    "    'age': [21, 23, 22, 24, 23],\n",
    "    'salary': [50000, 40000, 42000, 30000, 45000]\n",
    "}\n",
    "\n",
    "df = pd.DataFrame(data)\n",
    "\n",
    "# group based on single column\n",
    "# group = df.groupby('age')['salary'].sum() \n",
    "\n",
    "# grouping based on multiple columns\n",
    "group = df.groupby(['age','Names'])['salary'].sum()\n",
    "print(group)\n"
   ]
  },
  {
   "cell_type": "markdown",
   "id": "516ea66a",
   "metadata": {},
   "source": [
    "## Merging and Joining"
   ]
  },
  {
   "cell_type": "code",
   "execution_count": null,
   "id": "e77176a3",
   "metadata": {},
   "outputs": [],
   "source": [
    "customer = pd.DataFrame({\n",
    "    'id': [1,2,3],\n",
    "    'name': ['samar', 'gurinder', 'amit']\n",
    "})\n",
    "\n",
    "orders = pd.DataFrame({\n",
    "    'id': [1,2,4],\n",
    "    'price': [200,400,600]\n",
    "})\n",
    "\n",
    "merged = pd.merge(customer,orders,how='inner') # inner: only matching records\n",
    "\n",
    "merged = pd.merge(customer,orders,how='outer') # outer: put NaN values on non matching records\n",
    "\n",
    "merged = pd.merge(customer,orders,how='left') # left: all left records + only  right matching records\n",
    "\n",
    "merged = pd.merge(customer,orders,how='right') # right: all right records + only left matching records\n",
    "\n",
    "merged = pd.merge(customer,orders,how='cross') # cross: cross product of left and right records\n",
    "\n",
    "print(merged)\n",
    "\n"
   ]
  },
  {
   "cell_type": "code",
   "execution_count": null,
   "id": "24121fe1",
   "metadata": {},
   "outputs": [],
   "source": [
    "customer1 = pd.DataFrame({\n",
    "    'id': [1,2],\n",
    "    'name': ['samar', 'gurinder']\n",
    "})\n",
    "\n",
    "customer2 = pd.DataFrame({\n",
    "    'id': [3,4],\n",
    "    'name': ['amit', 'daman']\n",
    "})\n",
    "\n",
    "concat = pd.concat([customer1, customer2], ignore_index=True)\n",
    "print(concat)"
   ]
  }
 ],
 "metadata": {
  "kernelspec": {
   "display_name": "venv",
   "language": "python",
   "name": "python3"
  },
  "language_info": {
   "codemirror_mode": {
    "name": "ipython",
    "version": 3
   },
   "file_extension": ".py",
   "mimetype": "text/x-python",
   "name": "python",
   "nbconvert_exporter": "python",
   "pygments_lexer": "ipython3",
   "version": "3.13.1"
  }
 },
 "nbformat": 4,
 "nbformat_minor": 5
}
