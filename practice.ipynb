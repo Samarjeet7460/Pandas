{
 "cells": [
  {
   "cell_type": "markdown",
   "id": "dd5de3e2",
   "metadata": {},
   "source": [
    "## Practice "
   ]
  },
  {
   "cell_type": "markdown",
   "id": "d60cec8a",
   "metadata": {},
   "source": [
    "Assignment question:\n",
    "\n",
    "1. Merge the files in one dataframe.\n",
    "2. Clean the data.\n",
    "3. Change the object type column into integer type or float type.\n",
    "4. Get the month value from the order date?\n",
    "5. Which was the most productive month in terms of sales?\n",
    "6. Which city had the highest number of sales?\n",
    "7. At what time people mostly purchase the product?\n",
    "8. What is the average purchase by city?\n",
    "9. Which product has the highest sales?\n",
    "10. In Month of September, which product has the lowest sales?"
   ]
  },
  {
   "cell_type": "code",
   "execution_count": null,
   "id": "a0093e22",
   "metadata": {},
   "outputs": [],
   "source": [
    "import pandas as pd\n",
    "import glob as glob\n",
    "import os"
   ]
  },
  {
   "cell_type": "markdown",
   "id": "7f4c1317",
   "metadata": {},
   "source": [
    "## Merge the files into one dataframes"
   ]
  },
  {
   "cell_type": "code",
   "execution_count": null,
   "id": "5be0842a",
   "metadata": {},
   "outputs": [],
   "source": [
    "path = 'Assignment/Sales_*.csv'\n",
    "\n",
    "all_dfs = []\n",
    "\n",
    "for file in glob.glob(path):\n",
    "    df = pd.read_csv(file)\n",
    "    df = df[df.apply(lambda row: not all(row == df.columns), axis=1)]\n",
    "    all_dfs.append(df)\n",
    "\n",
    "merged_df = pd.concat(all_dfs, ignore_index=True)\n",
    "\n",
    "df = pd.DataFrame(merged_df)\n",
    "df.to_csv('all_data.csv', index=False)"
   ]
  },
  {
   "cell_type": "markdown",
   "id": "12a5689e",
   "metadata": {},
   "source": [
    "## Clean the data\n"
   ]
  },
  {
   "cell_type": "code",
   "execution_count": null,
   "id": "ab65b758",
   "metadata": {},
   "outputs": [],
   "source": [
    "all_data = pd.read_csv('all_data.csv')\n",
    "df = pd.DataFrame(all_data)\n",
    "df.fillna(method='ffill', inplace=True)"
   ]
  },
  {
   "cell_type": "markdown",
   "id": "4f9bc4eb",
   "metadata": {},
   "source": [
    "## Change the object type column into integer type or float type."
   ]
  },
  {
   "cell_type": "code",
   "execution_count": null,
   "id": "a568b19c",
   "metadata": {},
   "outputs": [],
   "source": [
    "df['Order ID'] = df['Order ID'].astype('int')\n",
    "\n",
    "df['Order ID']"
   ]
  },
  {
   "cell_type": "markdown",
   "id": "c9b885de",
   "metadata": {},
   "source": [
    "## Get the month value from the order date?"
   ]
  },
  {
   "cell_type": "code",
   "execution_count": null,
   "id": "198e8d73",
   "metadata": {},
   "outputs": [],
   "source": [
    "df['Order Date'] = pd.to_datetime(df['Order Date'])"
   ]
  },
  {
   "cell_type": "code",
   "execution_count": null,
   "id": "91104c46",
   "metadata": {},
   "outputs": [],
   "source": [
    "df['Order Date'].dt.month"
   ]
  },
  {
   "cell_type": "markdown",
   "id": "9ee02432",
   "metadata": {},
   "source": [
    "##  Which was the most productive month in terms of sales?"
   ]
  },
  {
   "cell_type": "code",
   "execution_count": null,
   "id": "6d423ed6",
   "metadata": {},
   "outputs": [],
   "source": [
    "df['Quantity Ordered'] = df['Quantity Ordered'].astype('int')"
   ]
  },
  {
   "cell_type": "code",
   "execution_count": null,
   "id": "f7271a0a",
   "metadata": {},
   "outputs": [],
   "source": [
    "df['month'] = df['Order Date'].dt.month\n",
    "monthly_sales = df.groupby(df['month'])['Quantity Ordered'].sum()\n",
    "month = monthly_sales.idxmax()\n",
    "sales = monthly_sales.max()\n",
    "print(f'Month : {month}, Sales : {sales}')"
   ]
  },
  {
   "cell_type": "markdown",
   "id": "f00234a5",
   "metadata": {},
   "source": [
    "## Which city had the highest number of sales?"
   ]
  },
  {
   "cell_type": "code",
   "execution_count": null,
   "id": "11f3027d",
   "metadata": {},
   "outputs": [],
   "source": [
    "df['city'] = df['Purchase Address'].str.split(',').str[1]\n",
    "\n",
    "high_sales_city = df.groupby(df['city'])['Quantity Ordered'].sum()\n",
    "city = high_sales_city.idxmax()\n",
    "sales = high_sales_city.max()\n",
    "\n",
    "print(f\"City : {city} , Sales : {sales}\")"
   ]
  },
  {
   "cell_type": "markdown",
   "id": "896d310b",
   "metadata": {},
   "source": [
    "## At what time people mostly purchase the product?"
   ]
  },
  {
   "cell_type": "code",
   "execution_count": null,
   "id": "e3b317a1",
   "metadata": {},
   "outputs": [],
   "source": [
    "df['time'] = df['Order Date'].dt.time\n",
    "purchase_time = df.groupby(df['time'])['Quantity Ordered'].sum()\n",
    "\n",
    "max_sale = purchase_time.max()\n",
    "hour_sale = purchase_time.idxmax()\n",
    "print(f\"Time : {hour_sale}, Sales : {max_sale}\")"
   ]
  },
  {
   "cell_type": "markdown",
   "id": "8cb326aa",
   "metadata": {},
   "source": [
    "## What is the average purchase by city?"
   ]
  },
  {
   "cell_type": "code",
   "execution_count": null,
   "id": "01902fca",
   "metadata": {},
   "outputs": [],
   "source": [
    "avg = df.groupby(df['city'])['Quantity Ordered'].mean()\n",
    "avg\n",
    "avg_purchase = round(avg.max(), 2)\n",
    "purchase_city = avg.idxmax()\n",
    "print(f\"City : {purchase_city}, Average : {avg_purchase}\")"
   ]
  },
  {
   "cell_type": "markdown",
   "id": "ede920e5",
   "metadata": {},
   "source": [
    "## Which product has the highest sales?"
   ]
  },
  {
   "cell_type": "code",
   "execution_count": null,
   "id": "5ec30db3",
   "metadata": {},
   "outputs": [],
   "source": [
    "high_sales = df.groupby(df['Product'])['Quantity Ordered'].sum()\n",
    "sales = high_sales.max()\n",
    "product = high_sales.idxmax()\n",
    "print(f\"Product : {product}, Sales : {sales}\")"
   ]
  },
  {
   "cell_type": "markdown",
   "id": "659114e2",
   "metadata": {},
   "source": [
    "## In Month of September, which product has the lowest sales?"
   ]
  },
  {
   "cell_type": "code",
   "execution_count": 206,
   "id": "d9ef1235",
   "metadata": {},
   "outputs": [
    {
     "name": "stdout",
     "output_type": "stream",
     "text": [
      "Lowest Selling Product : LG Dryer\n",
      "Unit sold : 30\n"
     ]
    }
   ],
   "source": [
    "month = df[df['Order Date'].dt.month == 9]\n",
    "sales = month.groupby(df['Product'])['Quantity Ordered'].sum()\n",
    "sales_sorted = sales.sort_values()\n",
    "lowest_product = sales_sorted.index[0]\n",
    "lowest_sales = sales_sorted.iloc[0]\n",
    "\n",
    "print(f\"Lowest Selling Product : {lowest_product}\")\n",
    "print(f\"Unit sold : {lowest_sales}\")"
   ]
  }
 ],
 "metadata": {
  "kernelspec": {
   "display_name": "venv",
   "language": "python",
   "name": "python3"
  },
  "language_info": {
   "codemirror_mode": {
    "name": "ipython",
    "version": 3
   },
   "file_extension": ".py",
   "mimetype": "text/x-python",
   "name": "python",
   "nbconvert_exporter": "python",
   "pygments_lexer": "ipython3",
   "version": "3.13.1"
  }
 },
 "nbformat": 4,
 "nbformat_minor": 5
}
